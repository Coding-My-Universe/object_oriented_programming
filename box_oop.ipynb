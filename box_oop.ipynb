{
 "cells": [
  {
   "cell_type": "markdown",
   "id": "6676c714",
   "metadata": {},
   "source": [
    "# Basics of OOP\n",
    "## Box with its Dimentional Parameters..... "
   ]
  },
  {
   "attachments": {
    "download-3.png": {
     "image/png": "[encoded data removed]"
    }
   },
   "cell_type": "markdown",
   "id": "5ca9a596",
   "metadata": {},
   "source": [
    "![download-3.png](attachment:download-3.png)"
   ]
  },
  {
   "cell_type": "code",
   "execution_count": 1,
   "id": "1133679c-b7ba-4fa5-992e-3737b4fb5df1",
   "metadata": {},
   "outputs": [],
   "source": [
    "class Box():\n",
    "    def __init__(self,l,b,h):\n",
    "        self.l = l\n",
    "        self.b = b\n",
    "        self.h = h\n",
    "    def volume(self):\n",
    "        return (self.l*self.b*self.h)\n",
    "    def area (self):\n",
    "        return 2*(self.l+self.b+self.h)"
   ]
  },
  {
   "cell_type": "code",
   "execution_count": 2,
   "id": "e87c7075-eb76-443b-ba27-e8866ab82ad2",
   "metadata": {},
   "outputs": [],
   "source": [
    "box1 = Box(5,7,9) "
   ]
  },
  {
   "cell_type": "code",
   "execution_count": 3,
   "id": "77d6837e-ee4a-4bcd-8063-66844eb59d53",
   "metadata": {},
   "outputs": [
    {
     "data": {
      "text/plain": [
       "<__main__.Box at 0x7fdb48a9d6d0>"
      ]
     },
     "execution_count": 3,
     "metadata": {},
     "output_type": "execute_result"
    }
   ],
   "source": [
    "box1"
   ]
  },
  {
   "cell_type": "code",
   "execution_count": 4,
   "id": "db4d1ed1-50f3-4466-a2b9-ff124abc630e",
   "metadata": {},
   "outputs": [
    {
     "name": "stdout",
     "output_type": "stream",
     "text": [
      "Length:  5\n"
     ]
    }
   ],
   "source": [
    "print('Length: ',box1.l)"
   ]
  },
  {
   "cell_type": "code",
   "execution_count": 5,
   "id": "80187303-c26e-4344-bc77-aa821ee72a59",
   "metadata": {},
   "outputs": [
    {
     "name": "stdout",
     "output_type": "stream",
     "text": [
      "Breadth: 7\n"
     ]
    }
   ],
   "source": [
    "print(\"Breadth:\",box1.b)"
   ]
  },
  {
   "cell_type": "code",
   "execution_count": 6,
   "id": "645e4cf6-588e-4f34-8e9a-a29bb9835d58",
   "metadata": {},
   "outputs": [
    {
     "name": "stdout",
     "output_type": "stream",
     "text": [
      "Height: 9\n"
     ]
    }
   ],
   "source": [
    "print(\"Height:\",box1.h)"
   ]
  },
  {
   "cell_type": "code",
   "execution_count": 7,
   "id": "fd698b94-f6e4-4ca2-8087-54dc118c6186",
   "metadata": {},
   "outputs": [
    {
     "name": "stdout",
     "output_type": "stream",
     "text": [
      "Volume: 315\n"
     ]
    }
   ],
   "source": [
    "print(\"Volume:\",box1.volume())"
   ]
  },
  {
   "cell_type": "code",
   "execution_count": 8,
   "id": "385375b0-f120-4a85-ae54-fc2faf9a9437",
   "metadata": {},
   "outputs": [
    {
     "name": "stdout",
     "output_type": "stream",
     "text": [
      "Area: 42\n"
     ]
    }
   ],
   "source": [
    "print(\"Area:\",box1.area())"
   ]
  },
  {
   "cell_type": "code",
   "execution_count": null,
   "id": "f04decdb-0d50-4b0b-96c5-dd5db9ec1f1d",
   "metadata": {},
   "outputs": [],
   "source": []
  },
  {
   "cell_type": "code",
   "execution_count": null,
   "id": "c843f13f-2283-46dd-840a-7202597fe1a6",
   "metadata": {},
   "outputs": [],
   "source": []
  }
 ],
 "metadata": {
  "kernelspec": {
   "display_name": "Python 3",
   "language": "python",
   "name": "python3"
  },
  "language_info": {
   "codemirror_mode": {
    "name": "ipython",
    "version": 3
   },
   "file_extension": ".py",
   "mimetype": "text/x-python",
   "name": "python",
   "nbconvert_exporter": "python",
   "pygments_lexer": "ipython3",
   "version": "3.8.8"
  }
 },
 "nbformat": 4,
 "nbformat_minor": 5
}
